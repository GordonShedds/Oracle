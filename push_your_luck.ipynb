{
 "cells": [
  {
   "cell_type": "code",
   "execution_count": 4,
   "outputs": [
    {
     "name": "stdout",
     "output_type": "stream",
     "text": [
      "Enabling: voila\r\n",
      "- Writing config: /home/gordon/PycharmProjects/quick_binder_app/venv/etc/jupyter\r\n",
      "    - Validating...\r\n",
      "      voila 0.2.4 \u001B[32mOK\u001B[0m\r\n"
     ]
    },
    {
     "data": {
      "text/plain": "VBox(children=(Label(value='Узнай свою судьбу!'), Text(value=''), Button(button_style='info', description='Да …",
      "application/vnd.jupyter.widget-view+json": {
       "version_major": 2,
       "version_minor": 0,
       "model_id": "3fc3cbb317b9497bafbbce55700ed13d"
      }
     },
     "metadata": {},
     "output_type": "display_data"
    }
   ],
   "source": [
    "from random import choice\n",
    "from ipywidgets import widgets, VBox\n",
    "\n",
    "answers = ['Не сегодня',\n",
    "           'Отличная идея!',\n",
    "           'Забудь об этом',\n",
    "           'А мама в курсе?',\n",
    "           'Я бы сделал так же на твоём месте',\n",
    "           'Почему бы и да?',\n",
    "           'Just do it',\n",
    "           'Звёзды благоволят тебе',\n",
    "           'Я знаю, но не скажу',\n",
    "           'Да. Просто да.',\n",
    "           'Поспи сначала, а потом спроси ещё раз. Будет день - будет пища',\n",
    "           'Почему ты меня спрашиваешь? Есть же Гугл!',\n",
    "           'Илон Маск одобряет',\n",
    "           'Синий нынче в моде',\n",
    "           'Лучше не надо...',\n",
    "           'Ты знаешь это лучше меня',\n",
    "           'Ответ находится прямо перед тобой',\n",
    "           'Вопрос не ясен',\n",
    "           'Никаких сомнений',\n",
    "           'Знаки говорят — «да»',\n",
    "           'Можешь быть уверен в этом',\n",
    "           'Бесспорно',\n",
    "           'Хорошие перспективы',\n",
    "           'Лучше не рассказывать',\n",
    "           'Весьма сомнительно',\n",
    "           'Даже не думай']\n",
    "\n",
    "output_text = widgets.Text()\n",
    "output_text.value = 'Здесь появится мудрое предсказание'\n",
    "input_text = widgets.Text()\n",
    "\n",
    "button = widgets.Button(\n",
    "                        description='Да или нет???',\n",
    "                        disabled=False,\n",
    "                        button_style='info', # 'success', 'info', 'warning', 'danger' or ''\n",
    "                        tooltip='Да или нет?',\n",
    "                        icon='check' # (FontAwesome names without the `fa-` prefix)\n",
    ")\n",
    "def prediction(change):\n",
    "    if input_text.value != '':\n",
    "        output_text.value = choice(answers)\n",
    "    else:\n",
    "        output_text.value = 'Здесь появится мудрое предсказание'\n",
    "button.on_click(prediction)\n",
    "\n",
    "VBox([widgets.Label('Узнай свою судьбу!'), input_text, button, output_text])\n"
   ],
   "metadata": {
    "collapsed": false,
    "pycharm": {
     "name": "#%%\n"
    }
   }
  }
 ],
 "metadata": {
  "kernelspec": {
   "display_name": "Python 3",
   "language": "python",
   "name": "python3"
  },
  "language_info": {
   "codemirror_mode": {
    "name": "ipython",
    "version": 2
   },
   "file_extension": ".py",
   "mimetype": "text/x-python",
   "name": "python",
   "nbconvert_exporter": "python",
   "pygments_lexer": "ipython2",
   "version": "2.7.6"
  }
 },
 "nbformat": 4,
 "nbformat_minor": 0
}